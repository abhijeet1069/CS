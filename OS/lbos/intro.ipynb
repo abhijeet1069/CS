{
 "cells": [
  {
   "cell_type": "markdown",
   "id": "f38e3028",
   "metadata": {},
   "source": [
    "# Synchronization\n",
    "\n",
    "- Serialization: Event A must happen before Event B.\n",
    "- Mutual exclusion: Events A and B must not happen at the same time.\n",
    "\n",
    "Concurrent programs are often non-deterministic, which means it is not possible to tell, by looking at the program, \n",
    "what will happen when it executes."
   ]
  },
  {
   "cell_type": "code",
   "execution_count": 4,
   "id": "9bf90ed7",
   "metadata": {},
   "outputs": [
    {
     "name": "stdout",
     "output_type": "stream",
     "text": [
      "ThreadA\n",
      "ThreadB\n",
      "Main thread done\n"
     ]
    }
   ],
   "source": [
    "import threading\n",
    "\n",
    "def print_thread_a():\n",
    "    print(\"ThreadA\")\n",
    "\n",
    "def print_thread_b():\n",
    "    print(\"ThreadB\")\n",
    "\n",
    "thread1 = threading.Thread(target=print_thread_a)\n",
    "thread2 = threading.Thread(target=print_thread_b)\n",
    "\n",
    "thread1.start()\n",
    "thread2.start()\n",
    "\n",
    "thread1.join()\n",
    "thread2.join()\n",
    "\n",
    "print(\"Main thread done\")"
   ]
  }
 ],
 "metadata": {
  "kernelspec": {
   "display_name": "500l",
   "language": "python",
   "name": "python3"
  },
  "language_info": {
   "codemirror_mode": {
    "name": "ipython",
    "version": 3
   },
   "file_extension": ".py",
   "mimetype": "text/x-python",
   "name": "python",
   "nbconvert_exporter": "python",
   "pygments_lexer": "ipython3",
   "version": "3.10.6"
  }
 },
 "nbformat": 4,
 "nbformat_minor": 5
}
