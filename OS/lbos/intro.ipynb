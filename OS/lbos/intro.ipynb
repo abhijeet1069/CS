{
 "cells": [
  {
   "cell_type": "markdown",
   "id": "f38e3028",
   "metadata": {},
   "source": [
    "# Synchronization\n",
    "\n",
    "- Serialization: Event A must happen before Event B.\n",
    "- Mutual exclusion: Events A and B must not happen at the same time.\n",
    "\n",
    "Concurrent programs are often non-deterministic, which means it is not possible to tell, by looking at the program, \n",
    "what will happen when it executes.\n",
    "\n",
    "## Python Threading\n",
    "\n",
    "Threads share the same heap space but has its own stack."
   ]
  },
  {
   "cell_type": "code",
   "execution_count": null,
   "id": "94029608",
   "metadata": {},
   "outputs": [
    {
     "name": "stdout",
     "output_type": "stream",
     "text": [
      "937854 Hello,World 29999997\n",
      "937856 Hello,World 29999997\n",
      "937858 Hello,World 29999997\n",
      "937864 Hello,World 29999997\n",
      "937865 Hello,World 29999997\n",
      "937871 Hello,World 29999997\n",
      "937873 Hello,World 29999997\n",
      "937874 Hello,World 29999997\n",
      "937881 Hello,World 29999997\n",
      "937885 Hello,World 29999997\n"
     ]
    }
   ],
   "source": [
    "import threading\n",
    "\n",
    "def hello_world():\n",
    "    temp = ''\n",
    "    for i in range(1,10000000): #expensive operation\n",
    "        temp += 'str'\n",
    "    print(str(threading.get_native_id())+\" Hello,World \"+str(len(temp)))\n",
    "\n",
    "for i in range(0,10):\n",
    "    t = threading.Thread(target=hello_world)\n",
    "    t.start()\n",
    "    t.join() # using multiple threads but not concurrent, next thread is starting only when previous thread has finished"
   ]
  },
  {
   "cell_type": "code",
   "execution_count": 37,
   "id": "61e4eeb7",
   "metadata": {},
   "outputs": [
    {
     "name": "stdout",
     "output_type": "stream",
     "text": [
      "941134 Hello,World 29999997\n",
      "941147 Hello,World 29999997\n",
      "941146 Hello,World 29999997941138 Hello,World 29999997\n",
      "\n",
      "941135 Hello,World 29999997\n",
      "941132 Hello,World 29999997\n",
      "941148 Hello,World 29999997\n",
      "941136 Hello,World 29999997\n",
      "941137 Hello,World 29999997\n",
      "941145 Hello,World 29999997\n"
     ]
    }
   ],
   "source": [
    "import threading\n",
    "\n",
    "def hello_world():\n",
    "    temp = ''\n",
    "    for i in range(1,10000000): #expensive operation\n",
    "        temp += 'str'\n",
    "    print(str(threading.get_native_id())+\" Hello,World \"+str(len(temp)))\n",
    "\n",
    "threads = []\n",
    "for i in range(10):\n",
    "    t = threading.Thread(target=hello_world)\n",
    "    t.start()\n",
    "    threads.append(t)\n",
    "\n",
    "for t in threads:\n",
    "    t.join() "
   ]
  },
  {
   "cell_type": "code",
   "execution_count": 7,
   "id": "9bf90ed7",
   "metadata": {},
   "outputs": [
    {
     "name": "stdout",
     "output_type": "stream",
     "text": [
      "ThreadA\n",
      "ThreadB\n",
      "Main thread done\n"
     ]
    }
   ],
   "source": [
    "import threading\n",
    "\n",
    "def print_thread_a():\n",
    "    print(\"ThreadA\")\n",
    "\n",
    "def print_thread_b():\n",
    "    print(\"ThreadB\")\n",
    "\n",
    "thread1 = threading.Thread(target=print_thread_a)\n",
    "thread2 = threading.Thread(target=print_thread_b)\n",
    "\n",
    "thread1.start()\n",
    "thread2.start()\n",
    "\n",
    "thread1.join()\n",
    "thread2.join()\n",
    "\n",
    "print(\"Main thread done\")"
   ]
  }
 ],
 "metadata": {
  "kernelspec": {
   "display_name": "500l",
   "language": "python",
   "name": "python3"
  },
  "language_info": {
   "codemirror_mode": {
    "name": "ipython",
    "version": 3
   },
   "file_extension": ".py",
   "mimetype": "text/x-python",
   "name": "python",
   "nbconvert_exporter": "python",
   "pygments_lexer": "ipython3",
   "version": "3.10.6"
  }
 },
 "nbformat": 4,
 "nbformat_minor": 5
}
