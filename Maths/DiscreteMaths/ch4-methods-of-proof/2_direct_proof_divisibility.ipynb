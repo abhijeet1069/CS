{
 "cells": [
  {
   "cell_type": "markdown",
   "id": "48ae3021",
   "metadata": {},
   "source": [
    "# Direct Proof : Divisibility\n",
    "\n",
    "The notation d|n is read \"d divides n\" \n",
    "d|n <=> ∃ an integer k, such that n = dk and d ≠ 0\n",
    "\n",
    "We also say,\n",
    "- n is divisible by d\n",
    "- n is a multiple of d\n",
    "- d is a factor of n\n",
    "- d is a divisor of n\n",
    "- d divides n\n",
    "\n",
    "## A positive divisor of a positive integer\n",
    "\n",
    "For all integers a and b, if a and b are positive and a divides b then a <= b\n",
    "\n",
    "## Divisors of 0\n",
    "\n",
    "Any non-zero integer divides 0 as, 0 = k.0\n",
    "\n",
    "## Divisors of 1\n",
    "\n",
    "The only divisors of 1 are 1 and -1\n",
    "\n",
    "## Not divisible\n",
    "\n",
    "For all integers n and d, d ∤ n <=> n/d is not an integer\n",
    "\n",
    "## Prime Numbers\n",
    "\n",
    "An integer n>1 is prime iff its only positive integer divisors are 1 and itself\n",
    "\n",
    "## Transitivity of divisibility\n",
    "\n",
    "For all integers a,b and c if a|b and b|c then a|c\n",
    "\n",
    "## Fundamental Theorem of Arithmetic\n",
    "\n",
    "![theorem](./res/theorem.png)\n"
   ]
  },
  {
   "cell_type": "markdown",
   "id": "3d3149ee",
   "metadata": {},
   "source": [
    "# Good Problems\n",
    "\n",
    "1. Two athletes run a circular track at a steady\n",
    "pace so that the first completes one round in 8\n",
    "minutes and the second in 10 minutes. If they\n",
    "both start from the same spot at 4 p.m., when\n",
    "will be the first time they return to the start\n",
    "together?\n",
    "\n",
    "- Funny enough answer is 40, as its the LCM of 8,10\n",
    "As at each multiple of 8 first player is at start of line\n",
    "Similarly, at each multiple of 10 second player is at the start of line\n",
    "So, what is the common ground here, its common multiple or the Least common multiple\n",
    "\n",
    "2. If a and b are integers and 12a = 25b, does\n",
    "    12|b? does 25|a? Explain.\n",
    "\n",
    "- This was a great example of the unique factorization theorem, \n",
    "By unique factorization theorem, 12a and 25b if both are equal must have a unique prime factors\n",
    "or 2^2.3.a = 5^2.b, But since, 2 or 3 doesnt divide 25, so it has to divide b\n",
    "Therefore, 12|b and 25|a\n",
    "\n",
    "3. Divisibility by 11\n",
    "If the alternating sum of a number is divisible by 11 then the number is divisible by 11\n",
    "For example, the alternating sum of the\n",
    "digits of 180,928 is 8-2+9-0+8-1 = 22."
   ]
  }
 ],
 "metadata": {
  "kernelspec": {
   "display_name": "500l",
   "language": "python",
   "name": "python3"
  },
  "language_info": {
   "codemirror_mode": {
    "name": "ipython",
    "version": 3
   },
   "file_extension": ".py",
   "mimetype": "text/x-python",
   "name": "python",
   "nbconvert_exporter": "python",
   "pygments_lexer": "ipython3",
   "version": "3.10.6"
  }
 },
 "nbformat": 4,
 "nbformat_minor": 5
}
