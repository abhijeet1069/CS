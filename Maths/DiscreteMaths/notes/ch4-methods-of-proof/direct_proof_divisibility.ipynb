{
 "cells": [
  {
   "cell_type": "markdown",
   "id": "48ae3021",
   "metadata": {},
   "source": [
    "# Direct Proof : Divisibility\n",
    "\n",
    "The notation d|n is read \"d divides n\" \n",
    "d|n <=> ∃ an integer k, such that n = dk and d ≠ 0\n",
    "\n",
    "We also say,\n",
    "- n is divisible by d\n",
    "- n is a multiple of d\n",
    "- d is a factor of n\n",
    "- d is a divisor of n\n",
    "- d divides n\n",
    "\n",
    "## A positive divisor of a positive integer\n",
    "\n",
    "For all integers a and b, if a and b are positive and a divides b then a <= b\n",
    "\n",
    "## Divisors of 0\n",
    "\n",
    "Any non-zero integer divides 0 as, 0 = k.0\n",
    "\n",
    "## Divisors of 1\n",
    "\n",
    "The only divisors of 1 are 1 and -1\n",
    "\n",
    "## Not divisible\n",
    "\n",
    "For all integers n and d, d ∤ n <=> n/d is not an integer\n",
    "\n",
    "## Prime Numbers\n",
    "\n",
    "An integer n>1 is prime iff its only positive integer divisors are 1 and itself\n",
    "\n",
    "## Transitivity of divisibility\n",
    "\n",
    "For all integers a,b and c if a|b and b|c then a|c\n",
    "\n",
    "## Fundamental Theorem of Arithmetic\n",
    "\n",
    "![theorem](./res/theorem.png)\n"
   ]
  }
 ],
 "metadata": {
  "kernelspec": {
   "display_name": "500l",
   "language": "python",
   "name": "python3"
  },
  "language_info": {
   "codemirror_mode": {
    "name": "ipython",
    "version": 3
   },
   "file_extension": ".py",
   "mimetype": "text/x-python",
   "name": "python",
   "nbconvert_exporter": "python",
   "pygments_lexer": "ipython3",
   "version": "3.10.6"
  }
 },
 "nbformat": 4,
 "nbformat_minor": 5
}
