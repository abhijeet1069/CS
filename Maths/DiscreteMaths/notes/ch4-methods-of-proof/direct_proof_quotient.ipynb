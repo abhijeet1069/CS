{
 "cells": [
  {
   "cell_type": "markdown",
   "id": "afd9887c",
   "metadata": {},
   "source": [
    "# Direct Proof : Division into cases and the Quotient\n",
    "\n",
    "## The Quotient remainder theorem\n",
    "\n",
    "Given any integer n and a positive integer d, there exist unique integers q and r such that,\n",
    "    \n",
    "    n = dq+r and 0 <= r < d (Or, number = divisor*quotient + remainder)\n",
    "    \n",
    "    n mod d = n - d.(n div d)\n",
    "\n",
    "## Parity\n",
    "\n",
    "The fact that any integer is either even or odd is called the parity property.\n",
    "\n",
    "## The Triangle inequality\n",
    "\n",
    "For all real numbers x and y, |x + y| <= |x| + |y|\n",
    "\n",
    "## Good Problems\n",
    "\n",
    "1. Find each values of n and d such that n = dq+r and 0 <= r < d\n",
    "    n = -45, d = 11\n",
    "-45 = 11 * -5 + 10\n",
    "\n",
    "2. ![Proof by cases](./res/Proof_by_cases.png)\n",
    "\n",
    "\n"
   ]
  }
 ],
 "metadata": {
  "language_info": {
   "name": "python"
  }
 },
 "nbformat": 4,
 "nbformat_minor": 5
}
